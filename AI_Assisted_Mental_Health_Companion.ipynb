{
  "nbformat": 4,
  "nbformat_minor": 0,
  "metadata": {
    "colab": {
      "provenance": []
    },
    "kernelspec": {
      "name": "python3",
      "display_name": "Python 3"
    },
    "language_info": {
      "name": "python"
    }
  },
  "cells": [
    {
      "cell_type": "markdown",
      "source": [
        "# ===============================\n",
        "# 🚀 AI-Assisted Mental Health Companion\n",
        "# ===============================\n",
        "\n",
        "# STEP 1️⃣: Install Dependencies\n"
      ],
      "metadata": {
        "id": "DAGnGN1W7_yf"
      }
    },
    {
      "cell_type": "code",
      "execution_count": null,
      "metadata": {
        "colab": {
          "base_uri": "https://localhost:8080/"
        },
        "id": "lJLsraaa6EBp",
        "outputId": "ad7bcf33-03d4-413d-d71e-409257438b82"
      },
      "outputs": [
        {
          "output_type": "stream",
          "name": "stdout",
          "text": [
            "Requirement already satisfied: google-generativeai in /usr/local/lib/python3.11/dist-packages (0.8.5)\n",
            "Requirement already satisfied: google-cloud-dialogflow in /usr/local/lib/python3.11/dist-packages (2.41.1)\n",
            "Requirement already satisfied: google-cloud-bigquery in /usr/local/lib/python3.11/dist-packages (3.33.0)\n",
            "Requirement already satisfied: google-cloud-texttospeech in /usr/local/lib/python3.11/dist-packages (2.27.0)\n",
            "Requirement already satisfied: google-cloud-speech in /usr/local/lib/python3.11/dist-packages (2.32.0)\n",
            "Requirement already satisfied: tensorflow in /usr/local/lib/python3.11/dist-packages (2.18.0)\n",
            "Requirement already satisfied: streamlit in /usr/local/lib/python3.11/dist-packages (1.45.1)\n",
            "Requirement already satisfied: google-ai-generativelanguage==0.6.15 in /usr/local/lib/python3.11/dist-packages (from google-generativeai) (0.6.15)\n",
            "Requirement already satisfied: google-api-core in /usr/local/lib/python3.11/dist-packages (from google-generativeai) (2.24.2)\n",
            "Requirement already satisfied: google-api-python-client in /usr/local/lib/python3.11/dist-packages (from google-generativeai) (2.169.0)\n",
            "Requirement already satisfied: google-auth>=2.15.0 in /usr/local/lib/python3.11/dist-packages (from google-generativeai) (2.38.0)\n",
            "Requirement already satisfied: protobuf in /usr/local/lib/python3.11/dist-packages (from google-generativeai) (5.29.4)\n",
            "Requirement already satisfied: pydantic in /usr/local/lib/python3.11/dist-packages (from google-generativeai) (2.11.4)\n",
            "Requirement already satisfied: tqdm in /usr/local/lib/python3.11/dist-packages (from google-generativeai) (4.67.1)\n",
            "Requirement already satisfied: typing-extensions in /usr/local/lib/python3.11/dist-packages (from google-generativeai) (4.13.2)\n",
            "Requirement already satisfied: proto-plus<2.0.0dev,>=1.22.3 in /usr/local/lib/python3.11/dist-packages (from google-ai-generativelanguage==0.6.15->google-generativeai) (1.26.1)\n",
            "Requirement already satisfied: google-cloud-core<3.0.0,>=2.4.1 in /usr/local/lib/python3.11/dist-packages (from google-cloud-bigquery) (2.4.3)\n",
            "Requirement already satisfied: google-resumable-media<3.0.0,>=2.0.0 in /usr/local/lib/python3.11/dist-packages (from google-cloud-bigquery) (2.7.2)\n",
            "Requirement already satisfied: packaging>=24.2.0 in /usr/local/lib/python3.11/dist-packages (from google-cloud-bigquery) (24.2)\n",
            "Requirement already satisfied: python-dateutil<3.0.0,>=2.8.2 in /usr/local/lib/python3.11/dist-packages (from google-cloud-bigquery) (2.9.0.post0)\n",
            "Requirement already satisfied: requests<3.0.0,>=2.21.0 in /usr/local/lib/python3.11/dist-packages (from google-cloud-bigquery) (2.32.3)\n",
            "Requirement already satisfied: absl-py>=1.0.0 in /usr/local/lib/python3.11/dist-packages (from tensorflow) (1.4.0)\n",
            "Requirement already satisfied: astunparse>=1.6.0 in /usr/local/lib/python3.11/dist-packages (from tensorflow) (1.6.3)\n",
            "Requirement already satisfied: flatbuffers>=24.3.25 in /usr/local/lib/python3.11/dist-packages (from tensorflow) (25.2.10)\n",
            "Requirement already satisfied: gast!=0.5.0,!=0.5.1,!=0.5.2,>=0.2.1 in /usr/local/lib/python3.11/dist-packages (from tensorflow) (0.6.0)\n",
            "Requirement already satisfied: google-pasta>=0.1.1 in /usr/local/lib/python3.11/dist-packages (from tensorflow) (0.2.0)\n",
            "Requirement already satisfied: libclang>=13.0.0 in /usr/local/lib/python3.11/dist-packages (from tensorflow) (18.1.1)\n",
            "Requirement already satisfied: opt-einsum>=2.3.2 in /usr/local/lib/python3.11/dist-packages (from tensorflow) (3.4.0)\n",
            "Requirement already satisfied: setuptools in /usr/local/lib/python3.11/dist-packages (from tensorflow) (75.2.0)\n",
            "Requirement already satisfied: six>=1.12.0 in /usr/local/lib/python3.11/dist-packages (from tensorflow) (1.17.0)\n",
            "Requirement already satisfied: termcolor>=1.1.0 in /usr/local/lib/python3.11/dist-packages (from tensorflow) (3.1.0)\n",
            "Requirement already satisfied: wrapt>=1.11.0 in /usr/local/lib/python3.11/dist-packages (from tensorflow) (1.17.2)\n",
            "Requirement already satisfied: grpcio<2.0,>=1.24.3 in /usr/local/lib/python3.11/dist-packages (from tensorflow) (1.71.0)\n",
            "Requirement already satisfied: tensorboard<2.19,>=2.18 in /usr/local/lib/python3.11/dist-packages (from tensorflow) (2.18.0)\n",
            "Requirement already satisfied: keras>=3.5.0 in /usr/local/lib/python3.11/dist-packages (from tensorflow) (3.8.0)\n",
            "Requirement already satisfied: numpy<2.1.0,>=1.26.0 in /usr/local/lib/python3.11/dist-packages (from tensorflow) (2.0.2)\n",
            "Requirement already satisfied: h5py>=3.11.0 in /usr/local/lib/python3.11/dist-packages (from tensorflow) (3.13.0)\n",
            "Requirement already satisfied: ml-dtypes<0.5.0,>=0.4.0 in /usr/local/lib/python3.11/dist-packages (from tensorflow) (0.4.1)\n",
            "Requirement already satisfied: tensorflow-io-gcs-filesystem>=0.23.1 in /usr/local/lib/python3.11/dist-packages (from tensorflow) (0.37.1)\n",
            "Requirement already satisfied: altair<6,>=4.0 in /usr/local/lib/python3.11/dist-packages (from streamlit) (5.5.0)\n",
            "Requirement already satisfied: blinker<2,>=1.5.0 in /usr/local/lib/python3.11/dist-packages (from streamlit) (1.9.0)\n",
            "Requirement already satisfied: cachetools<6,>=4.0 in /usr/local/lib/python3.11/dist-packages (from streamlit) (5.5.2)\n",
            "Requirement already satisfied: click<9,>=7.0 in /usr/local/lib/python3.11/dist-packages (from streamlit) (8.2.1)\n",
            "Requirement already satisfied: pandas<3,>=1.4.0 in /usr/local/lib/python3.11/dist-packages (from streamlit) (2.2.2)\n",
            "Requirement already satisfied: pillow<12,>=7.1.0 in /usr/local/lib/python3.11/dist-packages (from streamlit) (11.2.1)\n",
            "Requirement already satisfied: pyarrow>=7.0 in /usr/local/lib/python3.11/dist-packages (from streamlit) (18.1.0)\n",
            "Requirement already satisfied: tenacity<10,>=8.1.0 in /usr/local/lib/python3.11/dist-packages (from streamlit) (9.1.2)\n",
            "Requirement already satisfied: toml<2,>=0.10.1 in /usr/local/lib/python3.11/dist-packages (from streamlit) (0.10.2)\n",
            "Requirement already satisfied: watchdog<7,>=2.1.5 in /usr/local/lib/python3.11/dist-packages (from streamlit) (6.0.0)\n",
            "Requirement already satisfied: gitpython!=3.1.19,<4,>=3.0.7 in /usr/local/lib/python3.11/dist-packages (from streamlit) (3.1.44)\n",
            "Requirement already satisfied: pydeck<1,>=0.8.0b4 in /usr/local/lib/python3.11/dist-packages (from streamlit) (0.9.1)\n",
            "Requirement already satisfied: tornado<7,>=6.0.3 in /usr/local/lib/python3.11/dist-packages (from streamlit) (6.4.2)\n",
            "Requirement already satisfied: jinja2 in /usr/local/lib/python3.11/dist-packages (from altair<6,>=4.0->streamlit) (3.1.6)\n",
            "Requirement already satisfied: jsonschema>=3.0 in /usr/local/lib/python3.11/dist-packages (from altair<6,>=4.0->streamlit) (4.23.0)\n",
            "Requirement already satisfied: narwhals>=1.14.2 in /usr/local/lib/python3.11/dist-packages (from altair<6,>=4.0->streamlit) (1.40.0)\n",
            "Requirement already satisfied: wheel<1.0,>=0.23.0 in /usr/local/lib/python3.11/dist-packages (from astunparse>=1.6.0->tensorflow) (0.45.1)\n",
            "Requirement already satisfied: gitdb<5,>=4.0.1 in /usr/local/lib/python3.11/dist-packages (from gitpython!=3.1.19,<4,>=3.0.7->streamlit) (4.0.12)\n",
            "Requirement already satisfied: googleapis-common-protos<2.0.0,>=1.56.2 in /usr/local/lib/python3.11/dist-packages (from google-api-core->google-generativeai) (1.70.0)\n",
            "Requirement already satisfied: grpcio-status<2.0.dev0,>=1.33.2 in /usr/local/lib/python3.11/dist-packages (from google-api-core[grpc]!=2.0.*,!=2.1.*,!=2.10.*,!=2.2.*,!=2.3.*,!=2.4.*,!=2.5.*,!=2.6.*,!=2.7.*,!=2.8.*,!=2.9.*,<3.0.0dev,>=1.34.1->google-ai-generativelanguage==0.6.15->google-generativeai) (1.71.0)\n",
            "Requirement already satisfied: pyasn1-modules>=0.2.1 in /usr/local/lib/python3.11/dist-packages (from google-auth>=2.15.0->google-generativeai) (0.4.2)\n",
            "Requirement already satisfied: rsa<5,>=3.1.4 in /usr/local/lib/python3.11/dist-packages (from google-auth>=2.15.0->google-generativeai) (4.9.1)\n",
            "Requirement already satisfied: google-crc32c<2.0dev,>=1.0 in /usr/local/lib/python3.11/dist-packages (from google-resumable-media<3.0.0,>=2.0.0->google-cloud-bigquery) (1.7.1)\n",
            "Requirement already satisfied: rich in /usr/local/lib/python3.11/dist-packages (from keras>=3.5.0->tensorflow) (13.9.4)\n",
            "Requirement already satisfied: namex in /usr/local/lib/python3.11/dist-packages (from keras>=3.5.0->tensorflow) (0.0.9)\n",
            "Requirement already satisfied: optree in /usr/local/lib/python3.11/dist-packages (from keras>=3.5.0->tensorflow) (0.15.0)\n",
            "Requirement already satisfied: pytz>=2020.1 in /usr/local/lib/python3.11/dist-packages (from pandas<3,>=1.4.0->streamlit) (2025.2)\n",
            "Requirement already satisfied: tzdata>=2022.7 in /usr/local/lib/python3.11/dist-packages (from pandas<3,>=1.4.0->streamlit) (2025.2)\n",
            "Requirement already satisfied: charset-normalizer<4,>=2 in /usr/local/lib/python3.11/dist-packages (from requests<3.0.0,>=2.21.0->google-cloud-bigquery) (3.4.2)\n",
            "Requirement already satisfied: idna<4,>=2.5 in /usr/local/lib/python3.11/dist-packages (from requests<3.0.0,>=2.21.0->google-cloud-bigquery) (3.10)\n",
            "Requirement already satisfied: urllib3<3,>=1.21.1 in /usr/local/lib/python3.11/dist-packages (from requests<3.0.0,>=2.21.0->google-cloud-bigquery) (2.4.0)\n",
            "Requirement already satisfied: certifi>=2017.4.17 in /usr/local/lib/python3.11/dist-packages (from requests<3.0.0,>=2.21.0->google-cloud-bigquery) (2025.4.26)\n",
            "Requirement already satisfied: markdown>=2.6.8 in /usr/local/lib/python3.11/dist-packages (from tensorboard<2.19,>=2.18->tensorflow) (3.8)\n",
            "Requirement already satisfied: tensorboard-data-server<0.8.0,>=0.7.0 in /usr/local/lib/python3.11/dist-packages (from tensorboard<2.19,>=2.18->tensorflow) (0.7.2)\n",
            "Requirement already satisfied: werkzeug>=1.0.1 in /usr/local/lib/python3.11/dist-packages (from tensorboard<2.19,>=2.18->tensorflow) (3.1.3)\n",
            "Requirement already satisfied: httplib2<1.0.0,>=0.19.0 in /usr/local/lib/python3.11/dist-packages (from google-api-python-client->google-generativeai) (0.22.0)\n",
            "Requirement already satisfied: google-auth-httplib2<1.0.0,>=0.2.0 in /usr/local/lib/python3.11/dist-packages (from google-api-python-client->google-generativeai) (0.2.0)\n",
            "Requirement already satisfied: uritemplate<5,>=3.0.1 in /usr/local/lib/python3.11/dist-packages (from google-api-python-client->google-generativeai) (4.1.1)\n",
            "Requirement already satisfied: annotated-types>=0.6.0 in /usr/local/lib/python3.11/dist-packages (from pydantic->google-generativeai) (0.7.0)\n",
            "Requirement already satisfied: pydantic-core==2.33.2 in /usr/local/lib/python3.11/dist-packages (from pydantic->google-generativeai) (2.33.2)\n",
            "Requirement already satisfied: typing-inspection>=0.4.0 in /usr/local/lib/python3.11/dist-packages (from pydantic->google-generativeai) (0.4.1)\n",
            "Requirement already satisfied: smmap<6,>=3.0.1 in /usr/local/lib/python3.11/dist-packages (from gitdb<5,>=4.0.1->gitpython!=3.1.19,<4,>=3.0.7->streamlit) (5.0.2)\n",
            "Requirement already satisfied: pyparsing!=3.0.0,!=3.0.1,!=3.0.2,!=3.0.3,<4,>=2.4.2 in /usr/local/lib/python3.11/dist-packages (from httplib2<1.0.0,>=0.19.0->google-api-python-client->google-generativeai) (3.2.3)\n",
            "Requirement already satisfied: MarkupSafe>=2.0 in /usr/local/lib/python3.11/dist-packages (from jinja2->altair<6,>=4.0->streamlit) (3.0.2)\n",
            "Requirement already satisfied: attrs>=22.2.0 in /usr/local/lib/python3.11/dist-packages (from jsonschema>=3.0->altair<6,>=4.0->streamlit) (25.3.0)\n",
            "Requirement already satisfied: jsonschema-specifications>=2023.03.6 in /usr/local/lib/python3.11/dist-packages (from jsonschema>=3.0->altair<6,>=4.0->streamlit) (2025.4.1)\n",
            "Requirement already satisfied: referencing>=0.28.4 in /usr/local/lib/python3.11/dist-packages (from jsonschema>=3.0->altair<6,>=4.0->streamlit) (0.36.2)\n",
            "Requirement already satisfied: rpds-py>=0.7.1 in /usr/local/lib/python3.11/dist-packages (from jsonschema>=3.0->altair<6,>=4.0->streamlit) (0.25.1)\n",
            "Requirement already satisfied: pyasn1<0.7.0,>=0.6.1 in /usr/local/lib/python3.11/dist-packages (from pyasn1-modules>=0.2.1->google-auth>=2.15.0->google-generativeai) (0.6.1)\n",
            "Requirement already satisfied: markdown-it-py>=2.2.0 in /usr/local/lib/python3.11/dist-packages (from rich->keras>=3.5.0->tensorflow) (3.0.0)\n",
            "Requirement already satisfied: pygments<3.0.0,>=2.13.0 in /usr/local/lib/python3.11/dist-packages (from rich->keras>=3.5.0->tensorflow) (2.19.1)\n",
            "Requirement already satisfied: mdurl~=0.1 in /usr/local/lib/python3.11/dist-packages (from markdown-it-py>=2.2.0->rich->keras>=3.5.0->tensorflow) (0.1.2)\n"
          ]
        }
      ],
      "source": [
        "!pip install google-generativeai google-cloud-dialogflow google-cloud-bigquery \\\n",
        "    google-cloud-texttospeech google-cloud-speech tensorflow streamlit\n",
        "\n"
      ]
    },
    {
      "cell_type": "markdown",
      "source": [
        "# STEP 2️⃣: Import Libraries\n"
      ],
      "metadata": {
        "id": "g95sDNmZ73UQ"
      }
    },
    {
      "cell_type": "code",
      "source": [
        "import google.generativeai as genai\n",
        "import google.cloud.dialogflow as dialogflow\n",
        "import google.cloud.bigquery as bigquery\n",
        "import google.cloud.texttospeech as tts\n",
        "import google.cloud.speech as speech\n",
        "import tensorflow as tf\n",
        "import streamlit as st\n",
        "\n"
      ],
      "metadata": {
        "id": "g8WtpTHd6KKi"
      },
      "execution_count": null,
      "outputs": []
    },
    {
      "cell_type": "markdown",
      "source": [
        "# STEP 3️⃣: Authenticate Google Cloud\n"
      ],
      "metadata": {
        "id": "s23Oj9tA7zhj"
      }
    },
    {
      "cell_type": "code",
      "source": [
        "from google.colab import auth\n",
        "auth.authenticate_user()\n"
      ],
      "metadata": {
        "id": "V59037EG6Pmx"
      },
      "execution_count": null,
      "outputs": []
    },
    {
      "cell_type": "markdown",
      "source": [
        "# Configure AI APIs\n"
      ],
      "metadata": {
        "id": "aipE75tm7wLT"
      }
    },
    {
      "cell_type": "code",
      "source": [
        "from google.colab import userdata\n",
        "\n",
        "genai.configure(api_key=userdata.get(\"Generative_Language_API_Key\"))\n",
        "# List available models\n",
        "available_models = list(genai.list_models())  # Convert generator to list\n",
        "\n",
        "# Print each model name\n",
        "for model in available_models:\n",
        "    print(model.name)\n"
      ],
      "metadata": {
        "id": "50e90yfS6WnV",
        "colab": {
          "base_uri": "https://localhost:8080/",
          "height": 1000
        },
        "outputId": "1317946d-e649-4f63-f486-488ecdec66e6"
      },
      "execution_count": null,
      "outputs": [
        {
          "output_type": "stream",
          "name": "stdout",
          "text": [
            "models/embedding-gecko-001\n",
            "models/gemini-1.0-pro-vision-latest\n",
            "models/gemini-pro-vision\n",
            "models/gemini-1.5-pro-latest\n",
            "models/gemini-1.5-pro-001\n",
            "models/gemini-1.5-pro-002\n",
            "models/gemini-1.5-pro\n",
            "models/gemini-1.5-flash-latest\n",
            "models/gemini-1.5-flash-001\n",
            "models/gemini-1.5-flash-001-tuning\n",
            "models/gemini-1.5-flash\n",
            "models/gemini-1.5-flash-002\n",
            "models/gemini-1.5-flash-8b\n",
            "models/gemini-1.5-flash-8b-001\n",
            "models/gemini-1.5-flash-8b-latest\n",
            "models/gemini-1.5-flash-8b-exp-0827\n",
            "models/gemini-1.5-flash-8b-exp-0924\n",
            "models/gemini-2.5-pro-exp-03-25\n",
            "models/gemini-2.5-pro-preview-03-25\n",
            "models/gemini-2.5-flash-preview-04-17\n",
            "models/gemini-2.5-flash-preview-05-20\n",
            "models/gemini-2.5-flash-preview-04-17-thinking\n",
            "models/gemini-2.5-pro-preview-05-06\n",
            "models/gemini-2.0-flash-exp\n",
            "models/gemini-2.0-flash\n",
            "models/gemini-2.0-flash-001\n",
            "models/gemini-2.0-flash-exp-image-generation\n",
            "models/gemini-2.0-flash-lite-001\n",
            "models/gemini-2.0-flash-lite\n",
            "models/gemini-2.0-flash-preview-image-generation\n",
            "models/gemini-2.0-flash-lite-preview-02-05\n",
            "models/gemini-2.0-flash-lite-preview\n",
            "models/gemini-2.0-pro-exp\n",
            "models/gemini-2.0-pro-exp-02-05\n",
            "models/gemini-exp-1206\n",
            "models/gemini-2.0-flash-thinking-exp-01-21\n",
            "models/gemini-2.0-flash-thinking-exp\n",
            "models/gemini-2.0-flash-thinking-exp-1219\n",
            "models/gemini-2.5-flash-preview-tts\n",
            "models/gemini-2.5-pro-preview-tts\n",
            "models/learnlm-2.0-flash-experimental\n",
            "models/gemma-3-1b-it\n",
            "models/gemma-3-4b-it\n",
            "models/gemma-3-12b-it\n",
            "models/gemma-3-27b-it\n",
            "models/gemma-3n-e4b-it\n",
            "models/embedding-001\n",
            "models/text-embedding-004\n",
            "models/gemini-embedding-exp-03-07\n",
            "models/gemini-embedding-exp\n",
            "models/aqa\n",
            "models/imagen-3.0-generate-002\n",
            "models/veo-2.0-generate-001\n",
            "models/gemini-2.5-flash-preview-native-audio-dialog\n",
            "models/gemini-2.5-flash-preview-native-audio-dialog-rai-v3\n",
            "models/gemini-2.5-flash-exp-native-audio-thinking-dialog\n",
            "models/gemini-2.0-flash-live-001\n"
          ]
        }
      ]
    },
    {
      "cell_type": "markdown",
      "source": [
        "# STEP 4️⃣: AI-Powered Emotional Support (Gemini API)\n"
      ],
      "metadata": {
        "id": "PVzpsBLw7qy3"
      }
    },
    {
      "cell_type": "code",
      "source": [
        "def get_emotional_support(user_feelings):\n",
        "    model = genai.GenerativeModel(\"gemini-1.5-flash-002\")\n",
        "    prompt = f\"Provide comforting words and coping strategies for someone feeling {user_feelings}.\"\n",
        "    user_feelings = user_feelings\n",
        "    response = model.generate_content(prompt)\n",
        "    return response.text\n"
      ],
      "metadata": {
        "id": "gT6YEEkn6bPd"
      },
      "execution_count": 61,
      "outputs": []
    },
    {
      "cell_type": "markdown",
      "source": [
        "# Example Usage:\n"
      ],
      "metadata": {
        "id": "YEDzK-XG7nKb"
      }
    },
    {
      "cell_type": "code",
      "source": [
        "response = get_emotional_support(\"stressed and overwhelmed\")\n",
        "print(response)\n",
        "\n"
      ],
      "metadata": {
        "colab": {
          "base_uri": "https://localhost:8080/",
          "height": 540
        },
        "id": "GE4tBd3W6e0W",
        "outputId": "f4315b57-9627-4f74-9af0-1232bb279182"
      },
      "execution_count": 62,
      "outputs": [
        {
          "output_type": "stream",
          "name": "stderr",
          "text": [
            "2025-06-01 12:25:42.204 200 POST /v1beta/models/gemini-1.5-flash-002:generateContent?%24alt=json%3Benum-encoding%3Dint (127.0.0.1) 5072.07ms\n"
          ]
        },
        {
          "output_type": "stream",
          "name": "stdout",
          "text": [
            "It sounds like you're going through a really tough time right now, and it's okay to feel stressed and overwhelmed.  It's completely normal to feel this way sometimes.  Please know that you're not alone and that these feelings are temporary. They will pass.\n",
            "\n",
            "Here are some things that might help:\n",
            "\n",
            "**Comforting Words:**\n",
            "\n",
            "* \"You are strong and capable. You've overcome challenges before, and you can overcome this one too.\"\n",
            "* \"It's okay to not be okay. Allow yourself to feel your feelings without judgment.\"\n",
            "* \"Take a deep breath. You are safe and you are loved (even if it doesn't feel like it right now).\"\n",
            "* \"This feeling is intense, but it won't last forever.  There's light at the end of the tunnel.\"\n",
            "* \"I'm here for you.  Don't hesitate to reach out if you need to talk, vent, or just have some company.\"\n",
            "\n",
            "\n",
            "**Coping Strategies:**\n",
            "\n",
            "* **Mindfulness and Deep Breathing:** Find a quiet space, close your eyes, and focus on your breath. Inhale slowly and deeply, exhale slowly and completely.  Repeat this for several minutes.  There are many guided meditations available online or through apps.\n",
            "* **Physical Activity:** Even a short walk, some stretching, or a quick dance can help release tension and improve your mood.\n",
            "* **Engage your senses:**  Listen to calming music, diffuse essential oils (lavender is known for its calming properties), take a warm bath, or enjoy a comforting cup of tea.\n",
            "* **Prioritize and Break Down Tasks:**  If stress is stemming from feeling overwhelmed by tasks, break them down into smaller, more manageable steps.  Focus on one thing at a time.  Don't try to do everything at once.\n",
            "* **Connect with others:** Talk to a trusted friend, family member, or therapist. Sharing your feelings can be incredibly helpful.\n",
            "* **Limit exposure to stressors:**  Identify what's contributing to your stress and try to minimize exposure to those things, if possible. This could mean taking a break from social media, turning off the news, or saying no to extra commitments.\n",
            "* **Practice self-compassion:** Be kind to yourself. Treat yourself with the same understanding and care you would offer a friend going through a similar experience.\n",
            "* **Journaling:** Write down your thoughts and feelings. This can help you process your emotions and gain perspective.\n",
            "* **Seek professional help:** If your stress and overwhelm are persistent and significantly impacting your daily life, consider seeking help from a therapist or counselor. They can provide you with additional support and coping strategies.\n",
            "\n",
            "\n",
            "Remember to be patient with yourself. It takes time to develop healthy coping mechanisms.  Start small, celebrate your successes, and don't hesitate to ask for help when you need it. You deserve to feel better.\n",
            "\n"
          ]
        }
      ]
    },
    {
      "cell_type": "code",
      "source": [
        "response = get_emotional_support(\"Exhausted\")\n",
        "print(response)\n",
        "\n"
      ],
      "metadata": {
        "colab": {
          "base_uri": "https://localhost:8080/",
          "height": 644
        },
        "outputId": "a7732569-f57a-47fb-c3bc-e44f4a1a3e8b",
        "id": "ogTGXOHXabKV"
      },
      "execution_count": 63,
      "outputs": [
        {
          "output_type": "stream",
          "name": "stderr",
          "text": [
            "2025-06-01 12:25:49.796 200 POST /v1beta/models/gemini-1.5-flash-002:generateContent?%24alt=json%3Benum-encoding%3Dint (127.0.0.1) 4536.66ms\n"
          ]
        },
        {
          "output_type": "stream",
          "name": "stdout",
          "text": [
            "It sounds like you're going through a really tough time, feeling completely exhausted.  That's completely understandable, and it's okay to feel this way.  Exhaustion isn't just tiredness; it's a heavy weight, and it's important to be kind to yourself.\n",
            "\n",
            "**Comforting Words:**\n",
            "\n",
            "* You are not alone. Many people experience overwhelming exhaustion.\n",
            "* It's okay to not be okay.  Allow yourself to feel what you're feeling without judgment.\n",
            "* You are strong and resilient. You've gotten through difficult things before, and you will get through this too.\n",
            "* Your feelings are valid, and they deserve to be acknowledged and addressed.\n",
            "*  Rest and recovery are not signs of weakness; they are essential for healing.\n",
            "\n",
            "\n",
            "**Coping Strategies:**\n",
            "\n",
            "**Immediate Relief:**\n",
            "\n",
            "* **Rest:**  Prioritize sleep.  Even a short nap can make a difference.  Try to create a relaxing bedtime routine.\n",
            "* **Hydrate:** Dehydration can worsen fatigue. Drink plenty of water throughout the day.\n",
            "* **Nourish:**  Eat small, frequent, nutritious meals. Avoid sugary foods and excessive caffeine, which can lead to energy crashes.\n",
            "* **Gentle Movement:**  A short walk in nature or some gentle stretching can sometimes boost energy levels surprisingly. Don't push yourself; listen to your body.\n",
            "* **Deep Breathing:** Practice deep, slow breaths to calm your nervous system and reduce stress.\n",
            "\n",
            "\n",
            "**Long-Term Strategies:**\n",
            "\n",
            "* **Identify the Cause:**  Is your exhaustion due to stress, lack of sleep, a medical condition, or something else?  Understanding the root cause is crucial for finding effective solutions.  Consider talking to a doctor or therapist.\n",
            "* **Prioritize Self-Care:**  Make time for activities that bring you joy and relaxation, even if it's just for a few minutes each day. This could include reading, listening to music, taking a bath, or spending time in nature.\n",
            "* **Set Boundaries:** Learn to say \"no\" to commitments you can't handle. Protect your energy by prioritizing your well-being.\n",
            "* **Break Down Tasks:**  Overwhelm often contributes to exhaustion.  Break down large tasks into smaller, more manageable steps.\n",
            "* **Seek Support:**  Talk to a trusted friend, family member, or therapist. Sharing your burden can lighten the load.\n",
            "* **Professional Help:** If your exhaustion persists despite trying these strategies, seek professional help from a doctor or therapist.  They can help rule out underlying medical conditions and provide further guidance.\n",
            "\n",
            "\n",
            "Remember, healing takes time. Be patient with yourself, celebrate small victories, and focus on one step at a time. You deserve to feel better.\n",
            "\n"
          ]
        }
      ]
    },
    {
      "cell_type": "markdown",
      "source": [
        "# ✅ Define AI Mood Analysis Function\n"
      ],
      "metadata": {
        "id": "sscFnb7uhok3"
      }
    },
    {
      "cell_type": "code",
      "source": [
        "import datetime\n"
      ],
      "metadata": {
        "id": "f0-xYxuCilu2"
      },
      "execution_count": 72,
      "outputs": []
    },
    {
      "cell_type": "code",
      "source": [
        "def analyze_mood(user_response):\n",
        "    model = genai.GenerativeModel(\"gemini-1.5-flash-002\")\n",
        "    prompt = f\"Analyze the emotional tone of this text: '{user_response}' and classify it into a mood category (e.g., Happy, Anxious, Calm).\"\n",
        "    mood = model.generate_content(prompt).text\n",
        "    return mood\n",
        "\n"
      ],
      "metadata": {
        "id": "q8Zk_fX9hp-6"
      },
      "execution_count": 73,
      "outputs": []
    },
    {
      "cell_type": "markdown",
      "source": [
        "# ✅ Store Mood Entries\n"
      ],
      "metadata": {
        "id": "FvrJ223IhytV"
      }
    },
    {
      "cell_type": "code",
      "source": [
        "mood_entries = pd.DataFrame(columns=[\"timestamp\", \"mood\", \"user_response\"])\n",
        "\n",
        "def log_mood(user_response):\n",
        "    mood = analyze_mood(user_response)\n",
        "    timestamp = datetime.datetime.now().strftime(\"%Y-%m-%d %H:%M:%S\")  # ✅ Fixed datetime reference\n",
        "    new_entry = {\"timestamp\": timestamp, \"mood\": mood, \"user_response\": user_response}\n",
        "\n",
        "    global mood_entries\n",
        "    mood_entries = pd.concat([mood_entries, pd.DataFrame([new_entry])], ignore_index=True)\n",
        "    mood_entries.to_csv(\"mood_tracker.csv\", index=False)\n",
        "    print(f\"✅ Mood logged: {mood} (Timestamp: {timestamp})\")\n",
        "\n",
        "\n",
        "\n"
      ],
      "metadata": {
        "id": "llJCGjj5hu-e"
      },
      "execution_count": 74,
      "outputs": []
    },
    {
      "cell_type": "markdown",
      "source": [
        "# ✅ Example Usage:\n"
      ],
      "metadata": {
        "id": "T2e-vIGFh5he"
      }
    },
    {
      "cell_type": "code",
      "source": [
        "user_input = \"I've been feeling really stressed at work lately.\"\n",
        "log_mood(user_input)\n"
      ],
      "metadata": {
        "colab": {
          "base_uri": "https://localhost:8080/",
          "height": 69
        },
        "id": "QlqdGai5h9Ta",
        "outputId": "69d644a4-b7ed-487a-86ff-eb42f2f8913a"
      },
      "execution_count": 75,
      "outputs": [
        {
          "output_type": "stream",
          "name": "stderr",
          "text": [
            "2025-06-01 12:49:50.035 200 POST /v1beta/models/gemini-1.5-flash-002:generateContent?%24alt=json%3Benum-encoding%3Dint (127.0.0.1) 1190.00ms\n"
          ]
        },
        {
          "output_type": "stream",
          "name": "stdout",
          "text": [
            "✅ Mood logged: The emotional tone is **Anxious**.  The phrase expresses a feeling of stress, which is a common manifestation of anxiety.\n",
            " (Timestamp: 2025-06-01 12:49:50)\n"
          ]
        }
      ]
    },
    {
      "cell_type": "markdown",
      "source": [
        "# ✅ Define AI-Powered Activity Matching Function\n"
      ],
      "metadata": {
        "id": "w9vKgMKNjnIs"
      }
    },
    {
      "cell_type": "code",
      "source": [
        "def suggest_activity(mood):\n",
        "    model = genai.GenerativeModel(\"gemini-1.5-flash-002\")\n",
        "    prompt = f\"Suggest a healthy activity for someone who is feeling {mood}. The activity should promote well-being and be enjoyable.\"\n",
        "    activity = model.generate_content(prompt).text\n",
        "    return activity\n",
        "\n"
      ],
      "metadata": {
        "id": "XMSnP6JcjoSf"
      },
      "execution_count": 76,
      "outputs": []
    },
    {
      "cell_type": "markdown",
      "source": [
        "# ✅ Store Mood & Activity Entries\n"
      ],
      "metadata": {
        "id": "da3-JwAUj1eg"
      }
    },
    {
      "cell_type": "code",
      "source": [
        "mood_entries = pd.DataFrame(columns=[\"timestamp\", \"mood\", \"activity\", \"user_response\"])\n",
        "\n",
        "def log_mood_activity(user_response):\n",
        "    mood = analyze_mood(user_response)\n",
        "    activity = suggest_activity(mood)\n",
        "    timestamp = datetime.datetime.now().strftime(\"%Y-%m-%d %H:%M:%S\")\n",
        "\n",
        "    new_entry = {\"timestamp\": timestamp, \"mood\": mood, \"activity\": activity, \"user_response\": user_response}\n",
        "    global mood_entries\n",
        "    mood_entries = pd.concat([mood_entries, pd.DataFrame([new_entry])], ignore_index=True)\n",
        "    mood_entries.to_csv(\"mood_activity_tracker.csv\", index=False)\n",
        "\n",
        "    print(f\"✅ Mood Detected: {mood}\")\n",
        "    print(f\"🎭 Suggested Activity: {activity}\")\n",
        "\n"
      ],
      "metadata": {
        "id": "tWo3EKlej7Bl"
      },
      "execution_count": 77,
      "outputs": []
    },
    {
      "cell_type": "markdown",
      "source": [
        "# ✅ Example Usage:\n"
      ],
      "metadata": {
        "id": "RcxHISUqkDm4"
      }
    },
    {
      "cell_type": "code",
      "source": [
        "user_input = \"I've been feeling overwhelmed with work today.\"\n",
        "log_mood_activity(user_input)\n",
        "\n"
      ],
      "metadata": {
        "colab": {
          "base_uri": "https://localhost:8080/",
          "height": 297
        },
        "id": "rBuAL-uCkJCx",
        "outputId": "0e94dd94-1b9c-4271-d24e-a01934c28148"
      },
      "execution_count": 78,
      "outputs": [
        {
          "output_type": "stream",
          "name": "stderr",
          "text": [
            "2025-06-01 12:56:42.856 200 POST /v1beta/models/gemini-1.5-flash-002:generateContent?%24alt=json%3Benum-encoding%3Dint (127.0.0.1) 2506.08ms\n",
            "2025-06-01 12:56:45.169 200 POST /v1beta/models/gemini-1.5-flash-002:generateContent?%24alt=json%3Benum-encoding%3Dint (127.0.0.1) 2306.84ms\n"
          ]
        },
        {
          "output_type": "stream",
          "name": "stdout",
          "text": [
            "✅ Mood Detected: The emotional tone is **Anxious**.  While not explicitly stating fear or panic, \"overwhelmed\" implies a stress response and a feeling of being unable to cope, which falls under the umbrella of anxiety.\n",
            "\n",
            "🎭 Suggested Activity: Gentle yoga or stretching.\n",
            "\n",
            "The reason this works well for anxiety:\n",
            "\n",
            "* **Physical Release:**  Anxiety often manifests physically as tension. Gentle movement helps release this tension in muscles, promoting relaxation.\n",
            "* **Mindfulness:** Yoga often incorporates mindfulness techniques, focusing attention on the present moment and away from anxious thoughts about the future or regrets about the past.\n",
            "* **Enjoyable & Accessible:**  Many beginner yoga routines are available online or through apps, making it accessible even when energy levels are low.  The focus is on gentle movement, making it suitable even when feeling overwhelmed.  It doesn't require high energy or intense exertion, which can worsen anxiety.\n",
            "* **Sense of Control:**  Participating in a yoga routine, even a short one, provides a sense of control and accomplishment, counteracting the feeling of being overwhelmed.\n",
            "\n",
            "Instead of a vigorous workout, which might be too stimulating for someone already anxious, gentle yoga or stretching offers a calm and restorative way to manage the physical and mental aspects of anxiety.\n",
            "\n"
          ]
        }
      ]
    },
    {
      "cell_type": "markdown",
      "source": [
        "# ✅ Retrieve & Analyze Mood Trends\n"
      ],
      "metadata": {
        "id": "OuurxedQkSn3"
      }
    },
    {
      "cell_type": "code",
      "source": [
        "def get_mood_trends():\n",
        "    mood_data = pd.read_csv(\"mood_activity_tracker.csv\")\n",
        "    return mood_data[\"mood\"].value_counts()\n",
        "\n"
      ],
      "metadata": {
        "id": "m-2BoQfpkPYi"
      },
      "execution_count": 79,
      "outputs": []
    },
    {
      "cell_type": "code",
      "source": [
        "print(\"\\n📊 Mood Trends Analysis:\")\n",
        "print(get_mood_trends())\n"
      ],
      "metadata": {
        "colab": {
          "base_uri": "https://localhost:8080/"
        },
        "id": "VxEy5Jzckam5",
        "outputId": "bbf1bec2-69a0-4535-be27-f556d2f1e426"
      },
      "execution_count": 80,
      "outputs": [
        {
          "output_type": "stream",
          "name": "stdout",
          "text": [
            "\n",
            "📊 Mood Trends Analysis:\n",
            "mood\n",
            "The emotional tone is **Anxious**.  While not explicitly stating fear or panic, \"overwhelmed\" implies a stress response and a feeling of being unable to cope, which falls under the umbrella of anxiety.\\n    1\n",
            "Name: count, dtype: int64\n"
          ]
        }
      ]
    },
    {
      "cell_type": "markdown",
      "source": [
        "# ✅ Define AI Artistic Concept Generator\n"
      ],
      "metadata": {
        "id": "5pr_Dgatl6HS"
      }
    },
    {
      "cell_type": "code",
      "source": [
        "def generate_visual_description(mood):\n",
        "    model = genai.GenerativeModel(\"gemini-1.5-flash-002\")\n",
        "    prompt = f\"Describe a soothing artistic scene that reflects the mood '{mood}'. The description should be detailed enough for an artist or AI model to generate an image.\"\n",
        "    description = model.generate_content(prompt).text\n",
        "    return description\n",
        "\n"
      ],
      "metadata": {
        "id": "AmdhCGytl69o"
      },
      "execution_count": 85,
      "outputs": []
    },
    {
      "cell_type": "markdown",
      "source": [
        "# ✅ Example Usage:\n"
      ],
      "metadata": {
        "id": "kxqWrn_3l962"
      }
    },
    {
      "cell_type": "code",
      "source": [
        "mood_input = \"Calm and peaceful\"\n",
        "art_description = generate_visual_description(mood_input)\n",
        "print(f\"🎨 AI-Generated Artistic Concept:\\n{art_description}\")\n"
      ],
      "metadata": {
        "colab": {
          "base_uri": "https://localhost:8080/",
          "height": 176
        },
        "id": "akXEPPq3mBPt",
        "outputId": "3004975e-c229-498c-a5ac-416c54200866"
      },
      "execution_count": 86,
      "outputs": [
        {
          "output_type": "stream",
          "name": "stderr",
          "text": [
            "2025-06-01 13:04:56.400 200 POST /v1beta/models/gemini-1.5-flash-002:generateContent?%24alt=json%3Benum-encoding%3Dint (127.0.0.1) 3090.10ms\n"
          ]
        },
        {
          "output_type": "stream",
          "name": "stdout",
          "text": [
            "🎨 AI-Generated Artistic Concept:\n",
            "The scene is a secluded cove bathed in the soft, diffused light of a late afternoon sun.  The sky is a pale, almost pastel, blend of apricot and lavender, devoid of harsh shadows.  A single, perfectly smooth, grey-white boulder sits prominently in the shallows, partially submerged in the tranquil, turquoise water.  The water itself is incredibly still, reflecting the sky like a flawless mirror, with only the faintest ripples disturbed by the gentle lapping of tiny waves against the shore.\n",
            "\n",
            "Fine, white sand forms a crescent beach around the cove, completely devoid of footprints or litter.  A few delicate, seafoam-green sea grasses sway gently in the shallows near the boulder.  In the background, soft, rounded hills rise gently, covered in a lush, velvety carpet of muted greens and purples – perhaps lavender bushes and low-lying grasses.  No trees are visible, only the rolling hills and the expansive, peaceful sky.\n",
            "\n",
            "A single, large, perfectly formed seashell, pearly white with faint hints of rose, rests on the sand in the foreground, close to the water's edge.  The overall color palette is soft and muted, dominated by pastels and gentle earth tones.  There's a sense of stillness and quietude, a feeling of being completely undisturbed and at peace with the world.  The air is clear and clean, suggesting a fresh, salty breeze.  The overall impression should be one of serenity and tranquility, a place of complete escape and calm.\n",
            "\n"
          ]
        }
      ]
    },
    {
      "cell_type": "markdown",
      "source": [
        "# ✅ Streamlit UI"
      ],
      "metadata": {
        "id": "Yg4FFtWln7t-"
      }
    },
    {
      "cell_type": "code",
      "source": [
        "!pip install gradio"
      ],
      "metadata": {
        "colab": {
          "base_uri": "https://localhost:8080/"
        },
        "id": "wHVhdsDCoYTh",
        "outputId": "eaab6e27-559c-4d9e-c82c-47fd25cd749f"
      },
      "execution_count": 92,
      "outputs": [
        {
          "output_type": "stream",
          "name": "stdout",
          "text": [
            "Collecting gradio\n",
            "  Downloading gradio-5.32.0-py3-none-any.whl.metadata (16 kB)\n",
            "Collecting aiofiles<25.0,>=22.0 (from gradio)\n",
            "  Downloading aiofiles-24.1.0-py3-none-any.whl.metadata (10 kB)\n",
            "Requirement already satisfied: anyio<5.0,>=3.0 in /usr/local/lib/python3.11/dist-packages (from gradio) (4.9.0)\n",
            "Collecting fastapi<1.0,>=0.115.2 (from gradio)\n",
            "  Downloading fastapi-0.115.12-py3-none-any.whl.metadata (27 kB)\n",
            "Collecting ffmpy (from gradio)\n",
            "  Downloading ffmpy-0.5.0-py3-none-any.whl.metadata (3.0 kB)\n",
            "Collecting gradio-client==1.10.2 (from gradio)\n",
            "  Downloading gradio_client-1.10.2-py3-none-any.whl.metadata (7.1 kB)\n",
            "Collecting groovy~=0.1 (from gradio)\n",
            "  Downloading groovy-0.1.2-py3-none-any.whl.metadata (6.1 kB)\n",
            "Requirement already satisfied: httpx>=0.24.1 in /usr/local/lib/python3.11/dist-packages (from gradio) (0.28.1)\n",
            "Requirement already satisfied: huggingface-hub>=0.28.1 in /usr/local/lib/python3.11/dist-packages (from gradio) (0.31.4)\n",
            "Requirement already satisfied: jinja2<4.0 in /usr/local/lib/python3.11/dist-packages (from gradio) (3.1.6)\n",
            "Requirement already satisfied: markupsafe<4.0,>=2.0 in /usr/local/lib/python3.11/dist-packages (from gradio) (3.0.2)\n",
            "Requirement already satisfied: numpy<3.0,>=1.0 in /usr/local/lib/python3.11/dist-packages (from gradio) (2.0.2)\n",
            "Requirement already satisfied: orjson~=3.0 in /usr/local/lib/python3.11/dist-packages (from gradio) (3.10.18)\n",
            "Requirement already satisfied: packaging in /usr/local/lib/python3.11/dist-packages (from gradio) (24.2)\n",
            "Requirement already satisfied: pandas<3.0,>=1.0 in /usr/local/lib/python3.11/dist-packages (from gradio) (2.2.2)\n",
            "Requirement already satisfied: pillow<12.0,>=8.0 in /usr/local/lib/python3.11/dist-packages (from gradio) (11.2.1)\n",
            "Requirement already satisfied: pydantic<2.12,>=2.0 in /usr/local/lib/python3.11/dist-packages (from gradio) (2.11.4)\n",
            "Collecting pydub (from gradio)\n",
            "  Downloading pydub-0.25.1-py2.py3-none-any.whl.metadata (1.4 kB)\n",
            "Collecting python-multipart>=0.0.18 (from gradio)\n",
            "  Downloading python_multipart-0.0.20-py3-none-any.whl.metadata (1.8 kB)\n",
            "Requirement already satisfied: pyyaml<7.0,>=5.0 in /usr/local/lib/python3.11/dist-packages (from gradio) (6.0.2)\n",
            "Collecting ruff>=0.9.3 (from gradio)\n",
            "  Downloading ruff-0.11.12-py3-none-manylinux_2_17_x86_64.manylinux2014_x86_64.whl.metadata (25 kB)\n",
            "Collecting safehttpx<0.2.0,>=0.1.6 (from gradio)\n",
            "  Downloading safehttpx-0.1.6-py3-none-any.whl.metadata (4.2 kB)\n",
            "Collecting semantic-version~=2.0 (from gradio)\n",
            "  Downloading semantic_version-2.10.0-py2.py3-none-any.whl.metadata (9.7 kB)\n",
            "Collecting starlette<1.0,>=0.40.0 (from gradio)\n",
            "  Downloading starlette-0.47.0-py3-none-any.whl.metadata (6.2 kB)\n",
            "Collecting tomlkit<0.14.0,>=0.12.0 (from gradio)\n",
            "  Downloading tomlkit-0.13.2-py3-none-any.whl.metadata (2.7 kB)\n",
            "Requirement already satisfied: typer<1.0,>=0.12 in /usr/local/lib/python3.11/dist-packages (from gradio) (0.15.3)\n",
            "Requirement already satisfied: typing-extensions~=4.0 in /usr/local/lib/python3.11/dist-packages (from gradio) (4.13.2)\n",
            "Collecting uvicorn>=0.14.0 (from gradio)\n",
            "  Downloading uvicorn-0.34.3-py3-none-any.whl.metadata (6.5 kB)\n",
            "Requirement already satisfied: fsspec in /usr/local/lib/python3.11/dist-packages (from gradio-client==1.10.2->gradio) (2025.3.2)\n",
            "Requirement already satisfied: websockets<16.0,>=10.0 in /usr/local/lib/python3.11/dist-packages (from gradio-client==1.10.2->gradio) (15.0.1)\n",
            "Requirement already satisfied: idna>=2.8 in /usr/local/lib/python3.11/dist-packages (from anyio<5.0,>=3.0->gradio) (3.10)\n",
            "Requirement already satisfied: sniffio>=1.1 in /usr/local/lib/python3.11/dist-packages (from anyio<5.0,>=3.0->gradio) (1.3.1)\n",
            "Collecting starlette<1.0,>=0.40.0 (from gradio)\n",
            "  Downloading starlette-0.46.2-py3-none-any.whl.metadata (6.2 kB)\n",
            "Requirement already satisfied: certifi in /usr/local/lib/python3.11/dist-packages (from httpx>=0.24.1->gradio) (2025.4.26)\n",
            "Requirement already satisfied: httpcore==1.* in /usr/local/lib/python3.11/dist-packages (from httpx>=0.24.1->gradio) (1.0.9)\n",
            "Requirement already satisfied: h11>=0.16 in /usr/local/lib/python3.11/dist-packages (from httpcore==1.*->httpx>=0.24.1->gradio) (0.16.0)\n",
            "Requirement already satisfied: filelock in /usr/local/lib/python3.11/dist-packages (from huggingface-hub>=0.28.1->gradio) (3.18.0)\n",
            "Requirement already satisfied: requests in /usr/local/lib/python3.11/dist-packages (from huggingface-hub>=0.28.1->gradio) (2.32.3)\n",
            "Requirement already satisfied: tqdm>=4.42.1 in /usr/local/lib/python3.11/dist-packages (from huggingface-hub>=0.28.1->gradio) (4.67.1)\n",
            "Requirement already satisfied: python-dateutil>=2.8.2 in /usr/local/lib/python3.11/dist-packages (from pandas<3.0,>=1.0->gradio) (2.9.0.post0)\n",
            "Requirement already satisfied: pytz>=2020.1 in /usr/local/lib/python3.11/dist-packages (from pandas<3.0,>=1.0->gradio) (2025.2)\n",
            "Requirement already satisfied: tzdata>=2022.7 in /usr/local/lib/python3.11/dist-packages (from pandas<3.0,>=1.0->gradio) (2025.2)\n",
            "Requirement already satisfied: annotated-types>=0.6.0 in /usr/local/lib/python3.11/dist-packages (from pydantic<2.12,>=2.0->gradio) (0.7.0)\n",
            "Requirement already satisfied: pydantic-core==2.33.2 in /usr/local/lib/python3.11/dist-packages (from pydantic<2.12,>=2.0->gradio) (2.33.2)\n",
            "Requirement already satisfied: typing-inspection>=0.4.0 in /usr/local/lib/python3.11/dist-packages (from pydantic<2.12,>=2.0->gradio) (0.4.1)\n",
            "Requirement already satisfied: click>=8.0.0 in /usr/local/lib/python3.11/dist-packages (from typer<1.0,>=0.12->gradio) (8.2.1)\n",
            "Requirement already satisfied: shellingham>=1.3.0 in /usr/local/lib/python3.11/dist-packages (from typer<1.0,>=0.12->gradio) (1.5.4)\n",
            "Requirement already satisfied: rich>=10.11.0 in /usr/local/lib/python3.11/dist-packages (from typer<1.0,>=0.12->gradio) (13.9.4)\n",
            "Requirement already satisfied: six>=1.5 in /usr/local/lib/python3.11/dist-packages (from python-dateutil>=2.8.2->pandas<3.0,>=1.0->gradio) (1.17.0)\n",
            "Requirement already satisfied: markdown-it-py>=2.2.0 in /usr/local/lib/python3.11/dist-packages (from rich>=10.11.0->typer<1.0,>=0.12->gradio) (3.0.0)\n",
            "Requirement already satisfied: pygments<3.0.0,>=2.13.0 in /usr/local/lib/python3.11/dist-packages (from rich>=10.11.0->typer<1.0,>=0.12->gradio) (2.19.1)\n",
            "Requirement already satisfied: charset-normalizer<4,>=2 in /usr/local/lib/python3.11/dist-packages (from requests->huggingface-hub>=0.28.1->gradio) (3.4.2)\n",
            "Requirement already satisfied: urllib3<3,>=1.21.1 in /usr/local/lib/python3.11/dist-packages (from requests->huggingface-hub>=0.28.1->gradio) (2.4.0)\n",
            "Requirement already satisfied: mdurl~=0.1 in /usr/local/lib/python3.11/dist-packages (from markdown-it-py>=2.2.0->rich>=10.11.0->typer<1.0,>=0.12->gradio) (0.1.2)\n",
            "Downloading gradio-5.32.0-py3-none-any.whl (54.2 MB)\n",
            "\u001b[2K   \u001b[90m━━━━━━━━━━━━━━━━━━━━━━━━━━━━━━━━━━━━━━━━\u001b[0m \u001b[32m54.2/54.2 MB\u001b[0m \u001b[31m12.8 MB/s\u001b[0m eta \u001b[36m0:00:00\u001b[0m\n",
            "\u001b[?25hDownloading gradio_client-1.10.2-py3-none-any.whl (323 kB)\n",
            "\u001b[2K   \u001b[90m━━━━━━━━━━━━━━━━━━━━━━━━━━━━━━━━━━━━━━━━\u001b[0m \u001b[32m323.3/323.3 kB\u001b[0m \u001b[31m17.8 MB/s\u001b[0m eta \u001b[36m0:00:00\u001b[0m\n",
            "\u001b[?25hDownloading aiofiles-24.1.0-py3-none-any.whl (15 kB)\n",
            "Downloading fastapi-0.115.12-py3-none-any.whl (95 kB)\n",
            "\u001b[2K   \u001b[90m━━━━━━━━━━━━━━━━━━━━━━━━━━━━━━━━━━━━━━━━\u001b[0m \u001b[32m95.2/95.2 kB\u001b[0m \u001b[31m7.5 MB/s\u001b[0m eta \u001b[36m0:00:00\u001b[0m\n",
            "\u001b[?25hDownloading groovy-0.1.2-py3-none-any.whl (14 kB)\n",
            "Downloading python_multipart-0.0.20-py3-none-any.whl (24 kB)\n",
            "Downloading ruff-0.11.12-py3-none-manylinux_2_17_x86_64.manylinux2014_x86_64.whl (11.5 MB)\n",
            "\u001b[2K   \u001b[90m━━━━━━━━━━━━━━━━━━━━━━━━━━━━━━━━━━━━━━━━\u001b[0m \u001b[32m11.5/11.5 MB\u001b[0m \u001b[31m102.6 MB/s\u001b[0m eta \u001b[36m0:00:00\u001b[0m\n",
            "\u001b[?25hDownloading safehttpx-0.1.6-py3-none-any.whl (8.7 kB)\n",
            "Downloading semantic_version-2.10.0-py2.py3-none-any.whl (15 kB)\n",
            "Downloading starlette-0.46.2-py3-none-any.whl (72 kB)\n",
            "\u001b[2K   \u001b[90m━━━━━━━━━━━━━━━━━━━━━━━━━━━━━━━━━━━━━━━━\u001b[0m \u001b[32m72.0/72.0 kB\u001b[0m \u001b[31m5.6 MB/s\u001b[0m eta \u001b[36m0:00:00\u001b[0m\n",
            "\u001b[?25hDownloading tomlkit-0.13.2-py3-none-any.whl (37 kB)\n",
            "Downloading uvicorn-0.34.3-py3-none-any.whl (62 kB)\n",
            "\u001b[2K   \u001b[90m━━━━━━━━━━━━━━━━━━━━━━━━━━━━━━━━━━━━━━━━\u001b[0m \u001b[32m62.4/62.4 kB\u001b[0m \u001b[31m4.0 MB/s\u001b[0m eta \u001b[36m0:00:00\u001b[0m\n",
            "\u001b[?25hDownloading ffmpy-0.5.0-py3-none-any.whl (6.0 kB)\n",
            "Downloading pydub-0.25.1-py2.py3-none-any.whl (32 kB)\n",
            "Installing collected packages: pydub, uvicorn, tomlkit, semantic-version, ruff, python-multipart, groovy, ffmpy, aiofiles, starlette, safehttpx, gradio-client, fastapi, gradio\n",
            "Successfully installed aiofiles-24.1.0 fastapi-0.115.12 ffmpy-0.5.0 gradio-5.32.0 gradio-client-1.10.2 groovy-0.1.2 pydub-0.25.1 python-multipart-0.0.20 ruff-0.11.12 safehttpx-0.1.6 semantic-version-2.10.0 starlette-0.46.2 tomlkit-0.13.2 uvicorn-0.34.3\n"
          ]
        }
      ]
    },
    {
      "cell_type": "code",
      "source": [
        "import gradio as gr\n",
        "\n",
        "# ✅ Define Rule-Based Mood Classification\n",
        "def classify_mood(user_response):\n",
        "    response = user_response.lower()\n",
        "\n",
        "    # Define keyword-based mood mapping\n",
        "    mood_map = {\n",
        "        \"happy\": \"😃\", \"joy\": \"😄\", \"excited\": \"🤩\", \"fun\": \"😁\",\n",
        "        \"sad\": \"😢\", \"down\": \"😞\", \"depressed\": \"😭\", \"heartbroken\": \"💔\",\n",
        "        \"anxious\": \"😰\", \"worried\": \"😟\", \"stressed\": \"😩\", \"nervous\": \"😓\",\n",
        "        \"calm\": \"😌\", \"peaceful\": \"🌿\", \"relaxed\": \"😊\", \"mindful\": \"🧘\",\n",
        "        \"frustrated\": \"😡\", \"angry\": \"😠\", \"upset\": \"😤\", \"annoyed\": \"😕\"\n",
        "    }\n",
        "\n",
        "    # ✅ Find matching mood\n",
        "    detected_mood = \"Neutral 😐\"  # Default fallback\n",
        "    for mood, emoji in mood_map.items():\n",
        "        if mood in response:\n",
        "            detected_mood = f\"{mood.capitalize()} {emoji}\"\n",
        "            break\n",
        "\n",
        "    return f\"🌟 Mood Detected: {detected_mood}\"\n",
        "\n",
        "# ✅ Gradio UI Function\n",
        "ui = gr.Interface(fn=classify_mood, inputs=\"text\", outputs=\"text\", title=\"Ultra-Fast Mood Tracker 🎭\", live=True)\n",
        "ui.launch()"
      ],
      "metadata": {
        "colab": {
          "base_uri": "https://localhost:8080/",
          "height": 646
        },
        "id": "lwHGCwwv4AoH",
        "outputId": "eaaebae9-84f5-4061-ee91-6d6c51051374"
      },
      "execution_count": 100,
      "outputs": [
        {
          "output_type": "stream",
          "name": "stdout",
          "text": [
            "It looks like you are running Gradio on a hosted a Jupyter notebook. For the Gradio app to work, sharing must be enabled. Automatically setting `share=True` (you can turn this off by setting `share=False` in `launch()` explicitly).\n",
            "\n",
            "Colab notebook detected. To show errors in colab notebook, set debug=True in launch()\n",
            "* Running on public URL: https://ace6a47d1ed152a192.gradio.live\n",
            "\n",
            "This share link expires in 1 week. For free permanent hosting and GPU upgrades, run `gradio deploy` from the terminal in the working directory to deploy to Hugging Face Spaces (https://huggingface.co/spaces)\n"
          ]
        },
        {
          "output_type": "display_data",
          "data": {
            "text/plain": [
              "<IPython.core.display.HTML object>"
            ],
            "text/html": [
              "<div><iframe src=\"https://ace6a47d1ed152a192.gradio.live\" width=\"100%\" height=\"500\" allow=\"autoplay; camera; microphone; clipboard-read; clipboard-write;\" frameborder=\"0\" allowfullscreen></iframe></div>"
            ]
          },
          "metadata": {}
        },
        {
          "output_type": "execute_result",
          "data": {
            "text/plain": []
          },
          "metadata": {},
          "execution_count": 100
        }
      ]
    },
    {
      "cell_type": "code",
      "source": [
        "import gradio as gr\n",
        "\n",
        "# ✅ Define Mood-to-Coping Strategy Mapping\n",
        "def suggest_coping_strategy(user_response):\n",
        "    response = user_response.lower()\n",
        "\n",
        "    # Define keyword-based relaxation techniques\n",
        "    coping_strategies = {\n",
        "        \"happy\": \"🌞 Enjoy your moment! Try journaling about positive experiences.\",\n",
        "        \"anxious\": \"🧘 Practice deep breathing or guided meditation for relaxation.\",\n",
        "        \"calm\": \"🌿 Maintain mindfulness with soft music or nature sounds.\",\n",
        "        \"sad\": \"💙 Engage in self-care—take a warm bath or talk to a friend.\",\n",
        "        \"excited\": \"🎉 Channel energy positively—try creative writing or dancing!\",\n",
        "        \"frustrated\": \"😡 Release tension—go for a walk or practice slow breathing.\",\n",
        "        \"relaxed\": \"😌 Enjoy the calm—try stretching or gentle yoga.\",\n",
        "        \"neutral\": \"😐 Explore activities like reading or listening to peaceful music.\"\n",
        "    }\n",
        "\n",
        "    # ✅ Find matching coping advice\n",
        "    detected_advice = \"Try mindful breathing or simple stretching exercises.\"  # Default fallback\n",
        "    for mood, advice in coping_strategies.items():\n",
        "        if mood in response:\n",
        "            detected_advice = advice\n",
        "            break\n",
        "\n",
        "    return f\"🧘 Suggested Coping Advice: {detected_advice}\"\n",
        "\n",
        "# ✅ Gradio UI Function\n",
        "ui = gr.Interface(fn=suggest_coping_strategy, inputs=\"text\", outputs=\"text\", title=\"AI-Powered Relaxation Advice\", live=True)\n",
        "ui.launch()"
      ],
      "metadata": {
        "colab": {
          "base_uri": "https://localhost:8080/",
          "height": 646
        },
        "id": "eUZBRk_A6qb7",
        "outputId": "3a881a1a-9ba2-47ff-a115-6907815457f0"
      },
      "execution_count": 102,
      "outputs": [
        {
          "output_type": "stream",
          "name": "stdout",
          "text": [
            "It looks like you are running Gradio on a hosted a Jupyter notebook. For the Gradio app to work, sharing must be enabled. Automatically setting `share=True` (you can turn this off by setting `share=False` in `launch()` explicitly).\n",
            "\n",
            "Colab notebook detected. To show errors in colab notebook, set debug=True in launch()\n",
            "* Running on public URL: https://713e1a19d779eee30f.gradio.live\n",
            "\n",
            "This share link expires in 1 week. For free permanent hosting and GPU upgrades, run `gradio deploy` from the terminal in the working directory to deploy to Hugging Face Spaces (https://huggingface.co/spaces)\n"
          ]
        },
        {
          "output_type": "display_data",
          "data": {
            "text/plain": [
              "<IPython.core.display.HTML object>"
            ],
            "text/html": [
              "<div><iframe src=\"https://713e1a19d779eee30f.gradio.live\" width=\"100%\" height=\"500\" allow=\"autoplay; camera; microphone; clipboard-read; clipboard-write;\" frameborder=\"0\" allowfullscreen></iframe></div>"
            ]
          },
          "metadata": {}
        },
        {
          "output_type": "execute_result",
          "data": {
            "text/plain": []
          },
          "metadata": {},
          "execution_count": 102
        }
      ]
    },
    {
      "cell_type": "code",
      "source": [
        "import gradio as gr\n",
        "\n",
        "# ✅ Define Mood-to-Image Concept Mapping\n",
        "def generate_image_prompt(user_response):\n",
        "    response = user_response.lower()\n",
        "\n",
        "    # Define mood-based prompts for image generation\n",
        "    mood_image_prompts = {\n",
        "        \"happy\": \"🎨 Generate a warm sunset scene with soft golden hues, representing happiness.\",\n",
        "        \"anxious\": \"🌀 Create an abstract digital painting with deep blues and swirling motion, symbolizing anxiety.\",\n",
        "        \"calm\": \"🌿 Generate a peaceful nature scene with soft pastel colors and flowing water, reflecting calmness.\",\n",
        "        \"sad\": \"🌧️ Create an emotional rainy cityscape with moody lighting and a lonely figure.\",\n",
        "        \"excited\": \"🎉 Generate a vibrant festival scene with dynamic lighting and colorful confetti.\",\n",
        "        \"frustrated\": \"🔥 Create a dramatic stormy landscape with intense lighting and chaotic clouds.\",\n",
        "        \"relaxed\": \"🧘 Generate a serene meditation setting with glowing candles and soft ambient light.\",\n",
        "        \"neutral\": \"🎭 Create a balanced abstract artwork with a mix of cool and warm tones.\"\n",
        "    }\n",
        "\n",
        "    # ✅ Find matching image prompt\n",
        "    detected_prompt = \"Generate a soothing gradient of warm colors to evoke positivity.\"  # Default fallback\n",
        "    for mood, prompt in mood_image_prompts.items():\n",
        "        if mood in response:\n",
        "            detected_prompt = prompt\n",
        "            break\n",
        "\n",
        "    return f\"🎨 Suggested Image Concept: {detected_prompt}\"\n",
        "\n",
        "# ✅ Gradio UI Function\n",
        "ui = gr.Interface(fn=generate_image_prompt, inputs=\"text\", outputs=\"text\", title=\"AI-Powered Mood-Based Image Generator 🎨\", live=True)\n",
        "ui.launch()"
      ],
      "metadata": {
        "colab": {
          "base_uri": "https://localhost:8080/",
          "height": 646
        },
        "id": "UiOpRnXs7pZf",
        "outputId": "e62e9da6-68da-4a9a-cbb5-019707a8b310"
      },
      "execution_count": 103,
      "outputs": [
        {
          "output_type": "stream",
          "name": "stdout",
          "text": [
            "It looks like you are running Gradio on a hosted a Jupyter notebook. For the Gradio app to work, sharing must be enabled. Automatically setting `share=True` (you can turn this off by setting `share=False` in `launch()` explicitly).\n",
            "\n",
            "Colab notebook detected. To show errors in colab notebook, set debug=True in launch()\n",
            "* Running on public URL: https://d310cdd94f3ca536f0.gradio.live\n",
            "\n",
            "This share link expires in 1 week. For free permanent hosting and GPU upgrades, run `gradio deploy` from the terminal in the working directory to deploy to Hugging Face Spaces (https://huggingface.co/spaces)\n"
          ]
        },
        {
          "output_type": "display_data",
          "data": {
            "text/plain": [
              "<IPython.core.display.HTML object>"
            ],
            "text/html": [
              "<div><iframe src=\"https://d310cdd94f3ca536f0.gradio.live\" width=\"100%\" height=\"500\" allow=\"autoplay; camera; microphone; clipboard-read; clipboard-write;\" frameborder=\"0\" allowfullscreen></iframe></div>"
            ]
          },
          "metadata": {}
        },
        {
          "output_type": "execute_result",
          "data": {
            "text/plain": []
          },
          "metadata": {},
          "execution_count": 103
        }
      ]
    }
  ]
}